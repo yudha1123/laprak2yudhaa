{
 "cells": [
  {
   "cell_type": "code",
   "execution_count": 14,
   "id": "039d6528-deb4-48ca-bc0b-4027202af929",
   "metadata": {},
   "outputs": [
    {
     "name": "stdout",
     "output_type": "stream",
     "text": [
      "Proporsi Sampel (P̄)       = 0.760\n",
      "Z Kritis                  = 1.960\n",
      "Margin of Error           = 0.068\n",
      "Confidence Interval 95%   = (0.692, 0.828)\n"
     ]
    }
   ],
   "source": [
    "# Garda Yudha Wicaksana_064102400006\n",
    "import math\n",
    "from scipy.stats import norm\n",
    "\n",
    "# Data\n",
    "n = 150\n",
    "x = 114\n",
    "p_hat = x / n\n",
    "confidence = 0.95\n",
    "alpha = 1 - confidence \n",
    "\n",
    "# Z-score (Z Kritis) untuk confidance level 95%\n",
    "z = norm.ppf(1 - alpha/2)\n",
    "\n",
    "# Margin of Error\n",
    "ME = z * math.sqrt(p_hat * (1 - p_hat) / n)\n",
    "\n",
    "# confidance Interval\n",
    "lower = p_hat - ME \n",
    "upper = p_hat + ME\n",
    "\n",
    "# Output\n",
    "print(f\"Proporsi Sampel (P̄)       = {p_hat:.3f}\")\n",
    "print(f\"Z Kritis                  = {z:.3f}\")\n",
    "print(f\"Margin of Error           = {ME:.3f}\")\n",
    "print(f\"Confidence Interval 95%   = ({lower:.3f}, {upper:.3f})\")"
   ]
  },
  {
   "cell_type": "code",
   "execution_count": null,
   "id": "88517908-7e97-453e-9e31-43d37f48e833",
   "metadata": {},
   "outputs": [],
   "source": []
  }
 ],
 "metadata": {
  "kernelspec": {
   "display_name": "Python [conda env:base] *",
   "language": "python",
   "name": "conda-base-py"
  },
  "language_info": {
   "codemirror_mode": {
    "name": "ipython",
    "version": 3
   },
   "file_extension": ".py",
   "mimetype": "text/x-python",
   "name": "python",
   "nbconvert_exporter": "python",
   "pygments_lexer": "ipython3",
   "version": "3.12.7"
  }
 },
 "nbformat": 4,
 "nbformat_minor": 5
}
